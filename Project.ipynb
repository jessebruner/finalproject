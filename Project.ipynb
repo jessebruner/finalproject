{
 "cells": [
  {
   "cell_type": "code",
   "execution_count": 1,
   "metadata": {
    "collapsed": true
   },
   "outputs": [],
   "source": [
    "import pandas as pd\n",
    "from github import Github\n",
    "import matplotlib.pyplot as plt\n",
    "import numpy as np\n",
    "import tweepy\n",
    "import sqlite3\n",
    "from sqlite3 import Error\n",
    "import spotipy\n",
    "import sys\n",
    "import pprint\n",
    "%matplotlib inline"
   ]
  },
  {
   "cell_type": "code",
   "execution_count": 5,
   "metadata": {
    "collapsed": true
   },
   "outputs": [],
   "source": [
    "CONSUMER_KEY =  \"Mj1lQyXBFFrHQfp7X9lBuk591\"\n",
    "CONSUMER_SECRET = \"ihKCQfdRlnUVPIwV0LGXgGLKzAhApP9ncQEliOjXSuNxTvPVZ2\"\n",
    "OAUTH_TOKEN = \"986964512950620161-HGKRMd49dpLL5puTbaWyvfz1HGWTo1k\"\n",
    "OAUTH_TOKEN_SECRET = \"zBATxJeAYFZduk8FvawsDzUBG6RtZK3iiROmSPeTEFe9B\"\n",
    "\n",
    "auth = tweepy.OAuthHandler(CONSUMER_KEY, CONSUMER_SECRET)\n",
    "auth.set_access_token(OAUTH_TOKEN, OAUTH_TOKEN_SECRET)\n",
    "\n",
    "api = tweepy.API(auth)"
   ]
  },
  {
   "cell_type": "code",
   "execution_count": 6,
   "metadata": {
    "collapsed": true
   },
   "outputs": [],
   "source": [
    "def create_connection(db_file):\n",
    "    conn = None\n",
    "    try:\n",
    "        conn = sqlite3.connect(db_file)\n",
    "        return conn\n",
    "    except Error as e:\n",
    "        print(e)\n",
    " \n",
    "    return conn"
   ]
  },
  {
   "cell_type": "code",
   "execution_count": 7,
   "metadata": {
    "collapsed": true
   },
   "outputs": [],
   "source": [
    "def create_table(conn, create_table_sql):\n",
    "    try:\n",
    "        c = conn.cursor()\n",
    "        c.execute(create_table_sql)\n",
    "    except Error as e:\n",
    "        print(e)"
   ]
  },
  {
   "cell_type": "code",
   "execution_count": 8,
   "metadata": {
    "collapsed": true
   },
   "outputs": [],
   "source": [
    "\n",
    "database = r\"D:\\apiAssgnment.db\"\n",
    " \n",
    "sql_create_user_table = \"\"\" CREATE TABLE IF NOT EXISTS user_twitter (\n",
    "                                        screenName text NOT NULL,\n",
    "                                        username text,\n",
    "                                        location text,\n",
    "                                        description text,\n",
    "                                        number_follows integer,\n",
    "                                        number_friends integer,\n",
    "                                        number_status integer,\n",
    "                                        url text          \n",
    "                                    ); \"\"\"\n",
    " \n",
    "sql_create_search_table = \"\"\"CREATE TABLE IF NOT EXISTS search_twitter (\n",
    "                                    screenName text NOT NULL,\n",
    "                                    content text NOT NULL\n",
    "                                );\"\"\"\n",
    "\n",
    "sql_create_git_repo = \"\"\"CREATE TABLE IF NOT EXISTS git_repos (\n",
    "                                    key text NOT NULL,\n",
    "                                    repository text NOT NULL\n",
    "                                );\"\"\"\n",
    "\n",
    "    # create a database connection\n",
    "conn = create_connection(database)\n",
    " \n",
    "    # create tables\n",
    "if conn is not None:\n",
    "        # create user table\n",
    "    create_table(conn, sql_create_user_table)\n",
    " \n",
    "        # create search table\n",
    "    \n",
    "    create_table(conn, sql_create_search_table)\n",
    "    \n",
    "    create_table(conn, sql_create_git_repo)\n",
    "        \n",
    "else:\n",
    "    print(\"Error! cannot create the database connection.\")\n",
    "        "
   ]
  },
  {
   "cell_type": "code",
   "execution_count": 18,
   "metadata": {},
   "outputs": [
    {
     "name": "stdout",
     "output_type": "stream",
     "text": [
      "\n",
      "For User - BillGates\n",
      "User details:\n",
      "Screen Name - BillGates\n",
      "Username - Bill Gates\n",
      "User Location - Seattle, WA\n",
      "User description - Sharing things I'm learning through my foundation work and other interests.\n",
      "The number of Follows - 48529013\n",
      "The number of Friends -  203\n",
      "The number of Statuses - 3217\n",
      "User URL:https://t.co/AITfIziPWQ\n",
      "\n",
      "For User -  JimmyFallon\n",
      "User details:\n",
      "Screen Name - jimmyfallon\n",
      "Username - jimmy fallon\n",
      "User Location - New York, New York\n",
      "User description - astrophysicist\n",
      "The number of Follows - 51512736\n",
      "The number of Friends -  9374\n",
      "The number of Statuses - 12273\n",
      "User URL:https://t.co/o59gBCOnBC\n",
      "\n",
      "For User - Shakira\n",
      "User details:\n",
      "Screen Name - shakira\n",
      "Username - Shakira\n",
      "User Location - Barranquilla\n",
      "User description - LIVE ALBUM! ALBUM EN VIVO!\n",
      "Shakira in Concert: El Dorado World Tour\n",
      "The number of Follows - 51678251\n",
      "The number of Friends -  211\n",
      "The number of Statuses - 6559\n",
      "User URL:https://t.co/7cz69zxQgX\n",
      "\n",
      "For User - Rihanna\n",
      "User details:\n",
      "Screen Name - rihanna\n",
      "Username - Rihanna\n",
      "User Location - \n",
      "User description - happy to finally share this collection of incredible memories. get your copy of #theRIHANNAbook wherever books are sold 💁🏿‍♀️\n",
      "The number of Follows - 94615847\n",
      "The number of Friends -  1076\n",
      "The number of Statuses - 10440\n",
      "User URL:https://t.co/PBaucV0xYm\n",
      "\n",
      "For User - NarendraModi\n",
      "User details:\n",
      "Screen Name - narendramodi\n",
      "Username - Narendra Modi\n",
      "User Location - India\n",
      "User description - Prime Minister of India\n",
      "The number of Follows - 51518325\n",
      "The number of Friends -  2300\n",
      "The number of Statuses - 25359\n",
      "User URL:https://t.co/zzYhUUfq6i\n",
      "\n",
      "For User - BarackObama\n",
      "User details:\n",
      "Screen Name - BarackObama\n",
      "Username - Barack Obama\n",
      "User Location - Washington, DC\n",
      "User description - Dad, husband, President, citizen.\n",
      "The number of Follows - 110462551\n",
      "The number of Friends -  610630\n",
      "The number of Statuses - 15693\n",
      "User URL:https://t.co/93Y27HEnnX\n",
      "\n",
      "For User - Youtube\n",
      "User details:\n",
      "Screen Name - YouTube\n",
      "Username - YouTube\n",
      "User Location - San Bruno, CA\n",
      "User description - Like and subscribe.\n",
      "The number of Follows - 72096916\n",
      "The number of Friends -  1048\n",
      "The number of Statuses - 24103\n",
      "User URL:https://t.co/F3fLcf5sH7\n",
      "\n",
      "For User - BritneySpears\n",
      "User details:\n",
      "Screen Name - britneyspears\n",
      "Username - Britney Spears\n",
      "User Location - Los Angeles, CA\n",
      "User description - \n",
      "The number of Follows - 56253214\n",
      "The number of Friends -  380128\n",
      "The number of Statuses - 5631\n",
      "User URL:https://t.co/gM709rSYf8\n",
      "\n",
      "For User - Drake\n",
      "User details:\n",
      "Screen Name - Drake\n",
      "Username - Drizzy\n",
      "User Location - Paradise\n",
      "User description - \n",
      "The number of Follows - 38717881\n",
      "The number of Friends -  625\n",
      "The number of Statuses - 1743\n",
      "User URL:http://t.co/z6Fa3ZzCrt\n",
      "\n",
      "For User - KevinHart4real\n",
      "User details:\n",
      "Screen Name - KevinHart4real\n",
      "Username - Kevin Hart\n",
      "User Location - Philly/LA\n",
      "User description - My name is Kevin Hart and I WORK HARD!!! That pretty much sums me up!!! Everybody Wants To Be Famous But Nobody Wants To Do The Work\n",
      "The number of Follows - 35812322\n",
      "The number of Friends -  556\n",
      "The number of Statuses - 38876\n",
      "User URL:https://t.co/QEAXjYK4eK\n"
     ]
    }
   ],
   "source": [
    "\n",
    "mycursor = conn.cursor()\n",
    "\n",
    "\n",
    "userLists=[\"BillGates\",\" JimmyFallon\",\"Shakira\",\"Rihanna\",\"NarendraModi\",\"BarackObama\",\"Youtube\",\"BritneySpears\",\"Drake\",\"KevinHart4real\"]\n",
    "\n",
    "for usr in userLists:\n",
    "    user = api.get_user(usr)\n",
    "    mycursor.execute(\"insert into user_twitter values ('\" + user.screen_name + \"','\" + user.name + \"','\"\\\n",
    "                     + user.location + \"','\" + user.description.replace(\"'\",\"\") + \"','\" + str(user.followers_count) + \"','\" + str(user.friends_count)\\\n",
    "                     + \"','\" + str(user.statuses_count) + \"','\"  + user.url + \"')\")\n",
    "\n",
    "    print (\"\\nFor User - \" + usr )\n",
    "    print(\"User details:\")\n",
    "    print(\"Screen Name - \" + user.screen_name)\n",
    "    print(\"Username - \" + user.name)\n",
    "    print(\"User Location - \" + user.location)\n",
    "    print(\"User description - \" + user.description)\n",
    "    print(\"The number of Follows - \" + str(user.followers_count))\n",
    "    print (\"The number of Friends -  \" + str(user.friends_count))\n",
    "    print(\"The number of Statuses - \" + str(user.statuses_count))\n",
    "    print(\"User URL:\" + user.url)\n",
    "    query=\"#\" + usr\n",
    "    count=0\n",
    "    for tweet in api.search(q=query, lang=\"en\", rpp=100):\n",
    "        count=count+1\n",
    "    mycursor.execute(\"insert into search_twitter values ('\" + usr + \"','\" + str(count) + \"')\")    \n",
    "conn.commit()\n"
   ]
  },
  {
   "cell_type": "code",
   "execution_count": 41,
   "metadata": {
    "collapsed": true,
    "scrolled": false
   },
   "outputs": [],
   "source": [
    "sql_query=\"SELECT u.*,s.content from user_twitter u inner join search_twitter s on upper(u.screenName)=upper(trim(s.screenName))\"\n",
    "\n",
    "df_users = pd.read_sql_query(sql_query, conn)\n",
    "\n",
    "\n",
    "df_users.sort_values(\"number_follows\", axis = 0, ascending = False, \n",
    "                 inplace = True, na_position ='last') \n",
    "\n",
    "# status largest number of followers\n",
    "df_largest=df_users.nlargest(2,'number_follows')\n",
    "\n",
    "df_largest.to_csv(r'D:\\stats.txt', header=None, index=None, sep=' ', mode='a')"
   ]
  },
  {
   "cell_type": "code",
   "execution_count": 55,
   "metadata": {
    "scrolled": true
   },
   "outputs": [
    {
     "name": "stderr",
     "output_type": "stream",
     "text": [
      "C:\\ProgramData\\Anaconda3\\lib\\site-packages\\ipykernel_launcher.py:3: SettingWithCopyWarning: \n",
      "A value is trying to be set on a copy of a slice from a DataFrame.\n",
      "Try using .loc[row_indexer,col_indexer] = value instead\n",
      "\n",
      "See the caveats in the documentation: http://pandas.pydata.org/pandas-docs/stable/indexing.html#indexing-view-versus-copy\n",
      "  This is separate from the ipykernel package so we can avoid doing imports until\n"
     ]
    },
    {
     "data": {
      "text/plain": [
       "<matplotlib.axes._subplots.AxesSubplot at 0x291ca8b4ba8>"
      ]
     },
     "execution_count": 55,
     "metadata": {},
     "output_type": "execute_result"
    },
    {
     "data": {
      "image/png": "[encoded data removed]",
      "text/plain": [
       "<matplotlib.figure.Figure at 0x291ca78af28>"
      ]
     },
     "metadata": {},
     "output_type": "display_data"
    }
   ],
   "source": [
    "dataset = df_users[['screenName','number_follows']]\n",
    "\n",
    "dataset['number_follows']=dataset['number_follows']/1000\n",
    "\n",
    "dataset.set_index(\"screenName\", inplace = True)\n",
    "dataset.plot.bar()"
   ]
  },
  {
   "cell_type": "code",
   "execution_count": 62,
   "metadata": {},
   "outputs": [
    {
     "data": {
      "image/png": "[encoded data removed]",
      "text/plain": [
       "<matplotlib.figure.Figure at 0x291caa6f6d8>"
      ]
     },
     "metadata": {},
     "output_type": "display_data"
    }
   ],
   "source": [
    "dataset = df_users[['number_status']]\n",
    "\n",
    "\n",
    "\n",
    "ax=dataset.hist()\n",
    "\n",
    "plt.title('Distribution of number of Status')\n",
    "plt.xlabel('Number of Status')\n",
    "plt.ylabel('Frequency')\n",
    "plt.show()"
   ]
  },
  {
   "cell_type": "code",
   "execution_count": 10,
   "metadata": {
    "collapsed": true
   },
   "outputs": [],
   "source": [
    "def search_github(keywords):\n",
    "    query = '+'.join(keywords) + '+in:readme+in:description'\n",
    "    result = g.search_repositories(query, 'stars', 'desc')\n",
    " \n",
    "    return result.totalCount\n"
   ]
  },
  {
   "cell_type": "code",
   "execution_count": 15,
   "metadata": {},
   "outputs": [],
   "source": [
    "mycursor = conn.cursor()\n",
    "g = Github(\"8e3268d1acf58d40fd6123475a4cb1dd922acce3\")\n",
    "\n",
    "\n",
    "keywords = ['python','java','mysql','oracle','machine learning','haskel']\n",
    "\n",
    "for key in keywords:\n",
    "    mycursor.execute(\"insert into git_repos values ('\" + key + \"','\" + str(search_github(key)) + \"')\")  \n",
    "\n",
    "conn.commit()"
   ]
  },
  {
   "cell_type": "code",
   "execution_count": 32,
   "metadata": {},
   "outputs": [
    {
     "data": {
      "text/plain": [
       "<matplotlib.legend.Legend at 0x23433ed02e8>"
      ]
     },
     "execution_count": 32,
     "metadata": {},
     "output_type": "execute_result"
    },
    {
     "data": {
      "image/png": "[encoded data removed]",
      "text/plain": [
       "<matplotlib.figure.Figure at 0x23433ed07f0>"
      ]
     },
     "metadata": {},
     "output_type": "display_data"
    }
   ],
   "source": [
    "sql_query=\"select * from git_repos\"\n",
    "\n",
    "df_git = pd.read_sql_query(sql_query, conn)\n",
    "\n",
    "\n",
    "\n",
    "df_git['repository']=df_git['repository'].astype('int')\n",
    "\n",
    "df_git.set_index(\"key\", inplace = True)\n",
    "\n",
    "df_git.plot(kind='pie', y='repository',subplots=True, figsize=(8, 8),autopct='%.2f',fontsize=20)\n",
    "\n",
    "plt.legend(loc=0, fontsize=10)"
   ]
  },
  {
   "cell_type": "code",
   "execution_count": null,
   "metadata": {
    "collapsed": true
   },
   "outputs": [],
   "source": []
  }
 ],
 "metadata": {
  "kernelspec": {
   "display_name": "Python 3",
   "language": "python",
   "name": "python3"
  },
  "language_info": {
   "codemirror_mode": {
    "name": "ipython",
    "version": 3
   },
   "file_extension": ".py",
   "mimetype": "text/x-python",
   "name": "python",
   "nbconvert_exporter": "python",
   "pygments_lexer": "ipython3",
   "version": "3.6.1"
  }
 },
 "nbformat": 4,
 "nbformat_minor": 2
}
